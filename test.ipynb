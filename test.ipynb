{
 "cells": [
  {
   "cell_type": "code",
   "execution_count": 10,
   "metadata": {},
   "outputs": [
    {
     "data": {
      "text/plain": [
       "True"
      ]
     },
     "execution_count": 10,
     "metadata": {},
     "output_type": "execute_result"
    }
   ],
   "source": [
    "### RAG - Reterieval augmented generation\n",
    "\n",
    "import os\n",
    "from dotenv import load_dotenv\n",
    "\n",
    "load_dotenv()"
   ]
  },
  {
   "cell_type": "code",
   "execution_count": 11,
   "metadata": {},
   "outputs": [],
   "source": [
    "os.environ['OPENAI_API_KEY'] = os.getenv('OPENAI_API_KEY')"
   ]
  },
  {
   "cell_type": "code",
   "execution_count": 21,
   "metadata": {},
   "outputs": [
    {
     "name": "stderr",
     "output_type": "stream",
     "text": [
      "Ignoring wrong pointing object 9 0 (offset 0)\n"
     ]
    }
   ],
   "source": [
    "# Convert pdfs to vectors or indices\n",
    "\n",
    "from llama_index.core import VectorStoreIndex,SimpleDirectoryReader\n",
    "documents=SimpleDirectoryReader(\"data\").load_data()\n",
    "\n",
    "documents"
   ]
  },
  {
   "cell_type": "code",
   "execution_count": 23,
   "metadata": {},
   "outputs": [
    {
     "name": "stderr",
     "output_type": "stream",
     "text": [
      "/Users/hayat/Documents/Projects/RAG_project/ragverse/lib/python3.10/site-packages/tqdm/auto.py:21: TqdmWarning: IProgress not found. Please update jupyter and ipywidgets. See https://ipywidgets.readthedocs.io/en/stable/user_install.html\n",
      "  from .autonotebook import tqdm as notebook_tqdm\n",
      "Parsing nodes: 100%|██████████| 2/2 [00:00<00:00, 178.09it/s]\n",
      "Generating embeddings: 100%|██████████| 9/9 [00:00<00:00, 16.39it/s]\n"
     ]
    }
   ],
   "source": [
    "index = VectorStoreIndex.from_documents(documents, show_progress=True) # taking all the docs and converting them to an index. Whatever are the contents of the pdf, will be first converted to vectors and then indexed.\n",
    "index"
   ]
  },
  {
   "cell_type": "code",
   "execution_count": 25,
   "metadata": {},
   "outputs": [],
   "source": [
    "query_engine = index.as_query_engine() # responsible for retreiving the information"
   ]
  },
  {
   "cell_type": "code",
   "execution_count": 36,
   "metadata": {},
   "outputs": [],
   "source": [
    "# from llama_index.core.retrievers import VectorIndexAutoRetriever\n",
    "# from llama_index.core.query_engine import RetrieverQueryEngine\n",
    "# from llama_index.core.indices.postprocessor import SimilarityPostprocessor\n",
    "\n",
    "# # to get n number of responses\n",
    "# retreiver = VectorIndexAutoRetriever(index = index,similarity_top_k = 4)\n",
    "# query_engine = RetrieverQueryEngine(retreiver = retreiver)"
   ]
  },
  {
   "cell_type": "code",
   "execution_count": 27,
   "metadata": {},
   "outputs": [
    {
     "data": {
      "text/plain": [
       "Response(response=\"Tabinda Hayat was a Summer Associate at NASA L'SPACE in Buffalo, New York from May 2023 to August 2023.\", source_nodes=[NodeWithScore(node=TextNode(id_='71031203-b407-401f-8921-35f0a024e0fe', embedding=None, metadata={'page_label': '1', 'file_name': 'Tabinda_Hayat_Resume.pdf', 'file_path': '/Users/hayat/Documents/Projects/RAG_project/data/Tabinda_Hayat_Resume.pdf', 'file_type': 'application/pdf', 'file_size': 180868, 'creation_date': '2024-09-01', 'last_modified_date': '2024-08-29'}, excluded_embed_metadata_keys=['file_name', 'file_type', 'file_size', 'creation_date', 'last_modified_date', 'last_accessed_date'], excluded_llm_metadata_keys=['file_name', 'file_type', 'file_size', 'creation_date', 'last_modified_date', 'last_accessed_date'], relationships={<NodeRelationship.SOURCE: '1'>: RelatedNodeInfo(node_id='83b86b7e-e3b3-40b3-9b80-694ca2223a0f', node_type=<ObjectType.DOCUMENT: '4'>, metadata={'page_label': '1', 'file_name': 'Tabinda_Hayat_Resume.pdf', 'file_path': '/Users/hayat/Documents/Projects/RAG_project/data/Tabinda_Hayat_Resume.pdf', 'file_type': 'application/pdf', 'file_size': 180868, 'creation_date': '2024-09-01', 'last_modified_date': '2024-08-29'}, hash='e4a951c0d167b39a0e199cae4edc9b3d3ad77e4b95d1a14b733776f1a9505580'), <NodeRelationship.NEXT: '3'>: RelatedNodeInfo(node_id='c050c306-e825-4336-ba68-edefe19a0d48', node_type=<ObjectType.TEXT: '1'>, metadata={}, hash='be2df4e171dcd54ea63a648f32a5ad99ea51ecdfedbcdd21f2e8ac1aff22e3ab')}, text=\"TABINDA HAYAT716-776-9005 | tabindah@buffalo.edu | linkedin.com/in/tabindahayat | https://github.com/coder-brunetteEDUCATIONUniversity at Buffalo, The State University of New York| Institute for AI & Data Science\\u2029Master of Professional Studies in Data Sciences & Applications     Conferred:January 2024Chhattisgarh Swami Vivekanand Technical University| Computer Science & Engineering     Chhattisgarh, IndiaBachelor of Engineering in Computer Science & Engineering     Conferred: August 2018SKILLS & TOOLSMachine Learning · Data Mining · Data Analysis · Predictive Modeling · Deep Learning · Python · R · SQL · Spark · Kafka · Computer Vision · NLP · Statistical Analysis · Data Analytics · Tableau · PyTorch · TensorFlow · Data Modeling · Statistical Modeling Tools · Big Data · Time Series Analysis · Feature Engineering  · Neural Network Model · Decision Trees · Scikit-learn · MLOps · Analytical Tools · Data structures and algorithms · Docker · BERT ·Transformer Model (LLM) · Generative AI · Sentiment Analysis · GCP · ETL · Data Integration · RestAPI · LangChain · Azure Databricks · Azure ML Studio · Azure Kubernetes Services · Azure DevOps · RAG PROFESSIONAL EXPERIENCE Tata Consultancy Services   Bengaluru, IndiaMachine Learning Engineer (Data Analytics)     March 2019 –July 2022Honored with “On the spot (Team)” award for surpassing the assigned targets by 40%.· Used AnyLogic and Microsoft Project Bonsai to train a reinforcement learning model, cutting average product costs by 46%.· Streamed 80,000 tags/hour from Edge devices to Azure IoT Hub and deployed ML models using Azure DevOps CI/CD pipelines on Azure Kubernetes.· Programmed OpenCV and CNNs for surface crack detection, achieving 92% accuracy with FRCNN compared to VGG-16, ResNet50, and YOLOv3. · Developed CNN models trained on CIFAR-10 for people counting and face detection, achieving 85% accuracy. · Transitioned model reports from Oracle to Azure Databricks with PySpark and created advanced reports for improved performance and analytics.  · Used Transformers and BERT for tokenization and GPT-4 for training to create a bot that accurately extracts and parses receipt information, enhancing data processing efficiency. Google Developer Student Club     Buffalo, New YorkTechnology Lead    January 2023 – July 202· Led technical sessions on GCP for 85+ attendees.  · Managed the club’s social media on LinkedIn, Instagram, FB, Slack, and Discord, increasing followers by 60%.· Promoted the club at university events, successfully onboarding 200+ new students.INTERNSHIPSummer Associate, NASA L'SPACE - Proposal Writing & Evaluation, Buffalo, New York May 2023 - August 2023· Drafted and reviewed innovative proposals for new technologies and concepts to enable agency objectives and enhance mission capabilities at NASA as a goal to win the award of $10000 in funding.KEY PROJECTS  Diabetes Prediction Model: ML, Python and  REST API· Developed a machine learning model for diabetes prediction using health metrics data. Implemented data preprocessing, feature scaling, and model training with Random Forest and Logistic Regression. Deployed a Flask-based REST API to provide real-time predictions and probabilities. Disaster Tweet Classifier: Python and NLP· Developed and implemented a tweet classification model for disaster detection using TF-IDF vectorization and logistic regression, achieving a validation accuracy of 79%. Preprocessed text data, trained the model, and evaluated its performance, demonstrating strong skills in machine learning and natural language processing. Customer Churn Prediction with Deep Learning using Keras: RDeveloped a deep learning model using Keras to predict customer churn based on historical data. Utilized R programming language to preprocess data, train the model, and evaluate its performance. Employed techniques such as data preprocessing, model training, and evaluation to achieve a model accuracy of 81.8%. Successfully implemented the project, demonstrating proficiency in deep learning, R programming, and predictive analytics. Realtime fruit detection using YOLOv4: Python and Computer Vision· Developed a real-time fruit detection system using YOLOv4. Implemented image processing techniques and deep learning algorithms to detect various fruits in live video streams. Utilized OpenCV and TensorFlow frameworks to preprocess images, run inference, and draw bounding boxes around detected fruits.        Weather Data Analysis: ETL and ML        · Developed an end-to-end solution for weather data analysis using an ETL pipeline, machine learning, and REST API integration.\", mimetype='text/plain', start_char_idx=0, end_char_idx=4609, text_template='{metadata_str}\\n\\n{content}', metadata_template='{key}: {value}', metadata_seperator='\\n'), score=0.7584211554033143), NodeWithScore(node=TextNode(id_='c9cfc323-0cde-42b5-9321-a95ddb30abc2', embedding=None, metadata={'page_label': '1', 'file_name': 'Saif_Ryan_Gangaram_Resume.pdf', 'file_path': '/Users/hayat/Documents/Projects/RAG_project/data/Saif_Ryan_Gangaram_Resume.pdf', 'file_type': 'application/pdf', 'file_size': 119859, 'creation_date': '2024-09-01', 'last_modified_date': '2023-05-22'}, excluded_embed_metadata_keys=['file_name', 'file_type', 'file_size', 'creation_date', 'last_modified_date', 'last_accessed_date'], excluded_llm_metadata_keys=['file_name', 'file_type', 'file_size', 'creation_date', 'last_modified_date', 'last_accessed_date'], relationships={<NodeRelationship.SOURCE: '1'>: RelatedNodeInfo(node_id='d9eda09e-3976-43bb-8e2f-952b68233931', node_type=<ObjectType.DOCUMENT: '4'>, metadata={'page_label': '1', 'file_name': 'Saif_Ryan_Gangaram_Resume.pdf', 'file_path': '/Users/hayat/Documents/Projects/RAG_project/data/Saif_Ryan_Gangaram_Resume.pdf', 'file_type': 'application/pdf', 'file_size': 119859, 'creation_date': '2024-09-01', 'last_modified_date': '2023-05-22'}, hash='e38cf95a31ae792db428fd88f5fddf639c1b9ff98d3786a49c60653df48230ee'), <NodeRelationship.PREVIOUS: '2'>: RelatedNodeInfo(node_id='8734ea16-0241-4bc0-af2a-a3a3f5e03f81', node_type=<ObjectType.TEXT: '1'>, metadata={'page_label': '1', 'file_name': 'Saif_Ryan_Gangaram_Resume.pdf', 'file_path': '/Users/hayat/Documents/Projects/RAG_project/data/Saif_Ryan_Gangaram_Resume.pdf', 'file_type': 'application/pdf', 'file_size': 119859, 'creation_date': '2024-09-01', 'last_modified_date': '2023-05-22'}, hash='8fc881124db4fdff9817b9e160ae7ec7caae3973afa163cd814423d9f597f88c'), <NodeRelationship.NEXT: '3'>: RelatedNodeInfo(node_id='ccf840fa-9c25-4a28-ac1a-e93f0e5758cc', node_type=<ObjectType.TEXT: '1'>, metadata={}, hash='cdbeb4808aaee81e25d0493b3c571526aacc51842bbc2ba51904a11914c36c37')}, text='p u b l i c\\ns p e a k i n g\\na n d\\nd e c i s i o n\\nm a k i n g\\nS c h o o l\\no f\\nE n g i n e e r i n g\\na n d\\nA p p l i e d\\nS c i e n c e s\\na t\\nt h e\\nU n i v e r s i t y\\na t\\nB u f f a l o\\nB u f f a l o ,\\nN e w\\nY o r k\\nT e a c h e r ’ s\\nA s s i s t a n t\\nJ a n u a r y\\n2 0 1 9\\n–\\nJ a n u a r y\\n2 0 2 0\\n●\\nR e s p o n s i b l e\\nf o r\\nt h e\\np r o m p t\\ni n s t r u c t i o n\\no f\\n2\\nL a b\\nc l a s s e s\\na n d\\n1\\nR e c i t a t i o n\\n( p e r\\nw e e k )\\nf o r\\na\\nC S\\nc o u r s e\\na n d\\ns u p e r v i s e d\\no v e r\\n4 5 +\\ns t u d e n t s\\n●\\nT a s k e d\\nw i t h\\ng r a d i n g\\na n d\\ni n p u t t i n g\\nh o m e w o r k ,\\nl a b s ,\\na n d\\nt e s t\\ns c o r e s\\nt w i c e\\na\\nw e e k\\na n d\\ng r a d e d\\n9 0 +\\nh o m e w o r k\\na s s i g n m e n t s\\na n d\\nl a b s\\np e r\\nw e e k\\n●\\nA i d e d\\nw i t h\\nt h e\\na d m i n i s t r a t i o n\\no f\\n3\\ne x a m s\\na n d\\n5\\nq u i z z e s\\np e r\\ns e m e s t e r\\na n d\\nw a s\\no c c a s i o n a l l y\\nt a s k e d\\nw i t h\\nt e a c h i n g\\nl e c t u r e\\nw i t h\\n1\\no t h e r\\nT A\\nH u n g e r P a s s\\n( i P h o n e\\na n d\\nA n d r o i d\\nA p p l i c a t i o n )\\nM a n h a t t a n ,', mimetype='text/plain', start_char_idx=2938, end_char_idx=4001, text_template='{metadata_str}\\n\\n{content}', metadata_template='{key}: {value}', metadata_seperator='\\n'), score=0.7516012184446687)], metadata={'71031203-b407-401f-8921-35f0a024e0fe': {'page_label': '1', 'file_name': 'Tabinda_Hayat_Resume.pdf', 'file_path': '/Users/hayat/Documents/Projects/RAG_project/data/Tabinda_Hayat_Resume.pdf', 'file_type': 'application/pdf', 'file_size': 180868, 'creation_date': '2024-09-01', 'last_modified_date': '2024-08-29'}, 'c9cfc323-0cde-42b5-9321-a95ddb30abc2': {'page_label': '1', 'file_name': 'Saif_Ryan_Gangaram_Resume.pdf', 'file_path': '/Users/hayat/Documents/Projects/RAG_project/data/Saif_Ryan_Gangaram_Resume.pdf', 'file_type': 'application/pdf', 'file_size': 119859, 'creation_date': '2024-09-01', 'last_modified_date': '2023-05-22'}})"
      ]
     },
     "execution_count": 27,
     "metadata": {},
     "output_type": "execute_result"
    }
   ],
   "source": [
    "response = query_engine.query('NASA Summer Associate?')\n",
    "response"
   ]
  },
  {
   "cell_type": "code",
   "execution_count": 28,
   "metadata": {},
   "outputs": [
    {
     "data": {
      "text/plain": [
       "Response(response='HungerPass is an iPhone and Android application mentioned in the context.', source_nodes=[NodeWithScore(node=TextNode(id_='c9cfc323-0cde-42b5-9321-a95ddb30abc2', embedding=None, metadata={'page_label': '1', 'file_name': 'Saif_Ryan_Gangaram_Resume.pdf', 'file_path': '/Users/hayat/Documents/Projects/RAG_project/data/Saif_Ryan_Gangaram_Resume.pdf', 'file_type': 'application/pdf', 'file_size': 119859, 'creation_date': '2024-09-01', 'last_modified_date': '2023-05-22'}, excluded_embed_metadata_keys=['file_name', 'file_type', 'file_size', 'creation_date', 'last_modified_date', 'last_accessed_date'], excluded_llm_metadata_keys=['file_name', 'file_type', 'file_size', 'creation_date', 'last_modified_date', 'last_accessed_date'], relationships={<NodeRelationship.SOURCE: '1'>: RelatedNodeInfo(node_id='d9eda09e-3976-43bb-8e2f-952b68233931', node_type=<ObjectType.DOCUMENT: '4'>, metadata={'page_label': '1', 'file_name': 'Saif_Ryan_Gangaram_Resume.pdf', 'file_path': '/Users/hayat/Documents/Projects/RAG_project/data/Saif_Ryan_Gangaram_Resume.pdf', 'file_type': 'application/pdf', 'file_size': 119859, 'creation_date': '2024-09-01', 'last_modified_date': '2023-05-22'}, hash='e38cf95a31ae792db428fd88f5fddf639c1b9ff98d3786a49c60653df48230ee'), <NodeRelationship.PREVIOUS: '2'>: RelatedNodeInfo(node_id='8734ea16-0241-4bc0-af2a-a3a3f5e03f81', node_type=<ObjectType.TEXT: '1'>, metadata={'page_label': '1', 'file_name': 'Saif_Ryan_Gangaram_Resume.pdf', 'file_path': '/Users/hayat/Documents/Projects/RAG_project/data/Saif_Ryan_Gangaram_Resume.pdf', 'file_type': 'application/pdf', 'file_size': 119859, 'creation_date': '2024-09-01', 'last_modified_date': '2023-05-22'}, hash='8fc881124db4fdff9817b9e160ae7ec7caae3973afa163cd814423d9f597f88c'), <NodeRelationship.NEXT: '3'>: RelatedNodeInfo(node_id='ccf840fa-9c25-4a28-ac1a-e93f0e5758cc', node_type=<ObjectType.TEXT: '1'>, metadata={}, hash='cdbeb4808aaee81e25d0493b3c571526aacc51842bbc2ba51904a11914c36c37')}, text='p u b l i c\\ns p e a k i n g\\na n d\\nd e c i s i o n\\nm a k i n g\\nS c h o o l\\no f\\nE n g i n e e r i n g\\na n d\\nA p p l i e d\\nS c i e n c e s\\na t\\nt h e\\nU n i v e r s i t y\\na t\\nB u f f a l o\\nB u f f a l o ,\\nN e w\\nY o r k\\nT e a c h e r ’ s\\nA s s i s t a n t\\nJ a n u a r y\\n2 0 1 9\\n–\\nJ a n u a r y\\n2 0 2 0\\n●\\nR e s p o n s i b l e\\nf o r\\nt h e\\np r o m p t\\ni n s t r u c t i o n\\no f\\n2\\nL a b\\nc l a s s e s\\na n d\\n1\\nR e c i t a t i o n\\n( p e r\\nw e e k )\\nf o r\\na\\nC S\\nc o u r s e\\na n d\\ns u p e r v i s e d\\no v e r\\n4 5 +\\ns t u d e n t s\\n●\\nT a s k e d\\nw i t h\\ng r a d i n g\\na n d\\ni n p u t t i n g\\nh o m e w o r k ,\\nl a b s ,\\na n d\\nt e s t\\ns c o r e s\\nt w i c e\\na\\nw e e k\\na n d\\ng r a d e d\\n9 0 +\\nh o m e w o r k\\na s s i g n m e n t s\\na n d\\nl a b s\\np e r\\nw e e k\\n●\\nA i d e d\\nw i t h\\nt h e\\na d m i n i s t r a t i o n\\no f\\n3\\ne x a m s\\na n d\\n5\\nq u i z z e s\\np e r\\ns e m e s t e r\\na n d\\nw a s\\no c c a s i o n a l l y\\nt a s k e d\\nw i t h\\nt e a c h i n g\\nl e c t u r e\\nw i t h\\n1\\no t h e r\\nT A\\nH u n g e r P a s s\\n( i P h o n e\\na n d\\nA n d r o i d\\nA p p l i c a t i o n )\\nM a n h a t t a n ,', mimetype='text/plain', start_char_idx=2938, end_char_idx=4001, text_template='{metadata_str}\\n\\n{content}', metadata_template='{key}: {value}', metadata_seperator='\\n'), score=0.7447136842844226), NodeWithScore(node=TextNode(id_='ccf840fa-9c25-4a28-ac1a-e93f0e5758cc', embedding=None, metadata={'page_label': '1', 'file_name': 'Saif_Ryan_Gangaram_Resume.pdf', 'file_path': '/Users/hayat/Documents/Projects/RAG_project/data/Saif_Ryan_Gangaram_Resume.pdf', 'file_type': 'application/pdf', 'file_size': 119859, 'creation_date': '2024-09-01', 'last_modified_date': '2023-05-22'}, excluded_embed_metadata_keys=['file_name', 'file_type', 'file_size', 'creation_date', 'last_modified_date', 'last_accessed_date'], excluded_llm_metadata_keys=['file_name', 'file_type', 'file_size', 'creation_date', 'last_modified_date', 'last_accessed_date'], relationships={<NodeRelationship.SOURCE: '1'>: RelatedNodeInfo(node_id='d9eda09e-3976-43bb-8e2f-952b68233931', node_type=<ObjectType.DOCUMENT: '4'>, metadata={'page_label': '1', 'file_name': 'Saif_Ryan_Gangaram_Resume.pdf', 'file_path': '/Users/hayat/Documents/Projects/RAG_project/data/Saif_Ryan_Gangaram_Resume.pdf', 'file_type': 'application/pdf', 'file_size': 119859, 'creation_date': '2024-09-01', 'last_modified_date': '2023-05-22'}, hash='e38cf95a31ae792db428fd88f5fddf639c1b9ff98d3786a49c60653df48230ee'), <NodeRelationship.PREVIOUS: '2'>: RelatedNodeInfo(node_id='c9cfc323-0cde-42b5-9321-a95ddb30abc2', node_type=<ObjectType.TEXT: '1'>, metadata={'page_label': '1', 'file_name': 'Saif_Ryan_Gangaram_Resume.pdf', 'file_path': '/Users/hayat/Documents/Projects/RAG_project/data/Saif_Ryan_Gangaram_Resume.pdf', 'file_type': 'application/pdf', 'file_size': 119859, 'creation_date': '2024-09-01', 'last_modified_date': '2023-05-22'}, hash='3cdcabc83d3b518516b6694deeb00a031b39efd7b18eb5a70278a8522340dc85'), <NodeRelationship.NEXT: '3'>: RelatedNodeInfo(node_id='e7f0bfce-d25b-4900-b897-6aeeee19de7a', node_type=<ObjectType.TEXT: '1'>, metadata={}, hash='77e6ea2230f5196fd2299ad05ef86cbb9b89e643285713d2f2ec135a74d69434')}, text='N e w\\nY o r k\\nS o c i a l\\nM e d i a\\nM a r k e t i n g / D a t a\\nA n a l y t i c s\\nI n t e r n\\nJ u n e\\n2 0 1 8\\n–\\nA u g u s t\\n2 0 1 8\\n●\\nG r e w\\nt h e\\na p p l i c a t i o n\\nb y\\n2 3 %\\nb y\\ni n v e n t i n g\\nc l e v e r\\nm e t h o d s\\nt o\\no b t a i n\\nn e w\\nc u s t o m e r s\\nv i a\\ns o c i a l\\nm e d i a\\ns u c h\\na s\\nl i n k i n g\\nI G\\na c c o u n t s\\nt o\\nt h e\\na p p\\n●\\nI n n o v a t e d\\nn e w\\nm e t h o d s\\nt o\\ne x p l o i t\\nt h e\\nI n s t a g r a m\\na l g o r i t h m\\ns u c h\\na s\\nu s i n g\\nn e w\\nf e a t u r e s\\ni n\\ne a c h\\nu p d a t e\\nt o\\nb o o s t\\nH u n g e r p a s s ’\\nr e l e v a n c y\\n●\\nW o r k e d\\ni n\\nt e a m s\\no f\\n3 - 4\\nt o\\nd e v i s e\\nc u s t o m\\nm a r k e t i n g\\nm a t e r i a l\\nf o r\\nt h e\\nc o m p a n y\\ns u c h\\na s\\nv i d e o ,\\np h o t o s ,\\na n d\\np r e s e n t a t i o n s\\nf o r\\nm a n a g e m e n t\\nP R O J E C T S\\nC O M P U T E R\\nV I S I O N\\nP R O J E C T\\nB u f f a l o ,\\nN e w\\nY o r k\\nR e a l - T i m e\\nH u m a n\\nE m o t i o n\\nR e c o g n i t i o n\\nS y s t e m\\nM a r c h\\n2 0 2 3\\n-\\nM a y\\n2 0 2 3\\n●\\nD e v e l o p e d\\na\\nr e a l - t i m e\\nh u m a n\\ne m o t i o n\\nr e c o g n i t i o n\\ns y s t e m\\nu s i n g\\nd e e p\\nl e a r n i n g\\nt e c h n i q u e s\\na n d\\nr e a l - t i m e\\nv i d e o\\np r o c e s s i n g\\n●\\nP r e p r o c e s s e d\\na n d\\na u g m e n t e d\\nA f f e c t N e t\\na n d\\nF E R 2 0 1 3\\nd s e t s\\nw /\\no v e r\\n4 0 , 0 0 0\\ni m a g e s ,\\np r o c u r e d\\nm o d e l\\nr o b u s t n e s s\\ni n\\nv a r i o u s\\nl i g h t i n g\\nc o n d i t i o n s\\n●\\nF i n e - t u n e d\\nc o n v o l u t i o n a l\\nn e u r a l\\nn e t w o r k\\n( C N N )\\na r c h i t e c t u r e ,\\no p t i m i z i n g\\nh y p e r p a r a m e t e r s\\n( l e a r n i n g\\nr a t e ,\\nb a t c h\\ns i z e ,', mimetype='text/plain', start_char_idx=4002, end_char_idx=5651, text_template='{metadata_str}\\n\\n{content}', metadata_template='{key}: {value}', metadata_seperator='\\n'), score=0.7437092294919282)], metadata={'c9cfc323-0cde-42b5-9321-a95ddb30abc2': {'page_label': '1', 'file_name': 'Saif_Ryan_Gangaram_Resume.pdf', 'file_path': '/Users/hayat/Documents/Projects/RAG_project/data/Saif_Ryan_Gangaram_Resume.pdf', 'file_type': 'application/pdf', 'file_size': 119859, 'creation_date': '2024-09-01', 'last_modified_date': '2023-05-22'}, 'ccf840fa-9c25-4a28-ac1a-e93f0e5758cc': {'page_label': '1', 'file_name': 'Saif_Ryan_Gangaram_Resume.pdf', 'file_path': '/Users/hayat/Documents/Projects/RAG_project/data/Saif_Ryan_Gangaram_Resume.pdf', 'file_type': 'application/pdf', 'file_size': 119859, 'creation_date': '2024-09-01', 'last_modified_date': '2023-05-22'}})"
      ]
     },
     "execution_count": 28,
     "metadata": {},
     "output_type": "execute_result"
    }
   ],
   "source": [
    "response = query_engine.query('HungerPass?')\n",
    "response"
   ]
  },
  {
   "cell_type": "code",
   "execution_count": 31,
   "metadata": {},
   "outputs": [
    {
     "data": {
      "text/plain": [
       "Response(response='There is no mention of Schneider in the provided context information.', source_nodes=[NodeWithScore(node=TextNode(id_='c9cfc323-0cde-42b5-9321-a95ddb30abc2', embedding=None, metadata={'page_label': '1', 'file_name': 'Saif_Ryan_Gangaram_Resume.pdf', 'file_path': '/Users/hayat/Documents/Projects/RAG_project/data/Saif_Ryan_Gangaram_Resume.pdf', 'file_type': 'application/pdf', 'file_size': 119859, 'creation_date': '2024-09-01', 'last_modified_date': '2023-05-22'}, excluded_embed_metadata_keys=['file_name', 'file_type', 'file_size', 'creation_date', 'last_modified_date', 'last_accessed_date'], excluded_llm_metadata_keys=['file_name', 'file_type', 'file_size', 'creation_date', 'last_modified_date', 'last_accessed_date'], relationships={<NodeRelationship.SOURCE: '1'>: RelatedNodeInfo(node_id='d9eda09e-3976-43bb-8e2f-952b68233931', node_type=<ObjectType.DOCUMENT: '4'>, metadata={'page_label': '1', 'file_name': 'Saif_Ryan_Gangaram_Resume.pdf', 'file_path': '/Users/hayat/Documents/Projects/RAG_project/data/Saif_Ryan_Gangaram_Resume.pdf', 'file_type': 'application/pdf', 'file_size': 119859, 'creation_date': '2024-09-01', 'last_modified_date': '2023-05-22'}, hash='e38cf95a31ae792db428fd88f5fddf639c1b9ff98d3786a49c60653df48230ee'), <NodeRelationship.PREVIOUS: '2'>: RelatedNodeInfo(node_id='8734ea16-0241-4bc0-af2a-a3a3f5e03f81', node_type=<ObjectType.TEXT: '1'>, metadata={'page_label': '1', 'file_name': 'Saif_Ryan_Gangaram_Resume.pdf', 'file_path': '/Users/hayat/Documents/Projects/RAG_project/data/Saif_Ryan_Gangaram_Resume.pdf', 'file_type': 'application/pdf', 'file_size': 119859, 'creation_date': '2024-09-01', 'last_modified_date': '2023-05-22'}, hash='8fc881124db4fdff9817b9e160ae7ec7caae3973afa163cd814423d9f597f88c'), <NodeRelationship.NEXT: '3'>: RelatedNodeInfo(node_id='ccf840fa-9c25-4a28-ac1a-e93f0e5758cc', node_type=<ObjectType.TEXT: '1'>, metadata={}, hash='cdbeb4808aaee81e25d0493b3c571526aacc51842bbc2ba51904a11914c36c37')}, text='p u b l i c\\ns p e a k i n g\\na n d\\nd e c i s i o n\\nm a k i n g\\nS c h o o l\\no f\\nE n g i n e e r i n g\\na n d\\nA p p l i e d\\nS c i e n c e s\\na t\\nt h e\\nU n i v e r s i t y\\na t\\nB u f f a l o\\nB u f f a l o ,\\nN e w\\nY o r k\\nT e a c h e r ’ s\\nA s s i s t a n t\\nJ a n u a r y\\n2 0 1 9\\n–\\nJ a n u a r y\\n2 0 2 0\\n●\\nR e s p o n s i b l e\\nf o r\\nt h e\\np r o m p t\\ni n s t r u c t i o n\\no f\\n2\\nL a b\\nc l a s s e s\\na n d\\n1\\nR e c i t a t i o n\\n( p e r\\nw e e k )\\nf o r\\na\\nC S\\nc o u r s e\\na n d\\ns u p e r v i s e d\\no v e r\\n4 5 +\\ns t u d e n t s\\n●\\nT a s k e d\\nw i t h\\ng r a d i n g\\na n d\\ni n p u t t i n g\\nh o m e w o r k ,\\nl a b s ,\\na n d\\nt e s t\\ns c o r e s\\nt w i c e\\na\\nw e e k\\na n d\\ng r a d e d\\n9 0 +\\nh o m e w o r k\\na s s i g n m e n t s\\na n d\\nl a b s\\np e r\\nw e e k\\n●\\nA i d e d\\nw i t h\\nt h e\\na d m i n i s t r a t i o n\\no f\\n3\\ne x a m s\\na n d\\n5\\nq u i z z e s\\np e r\\ns e m e s t e r\\na n d\\nw a s\\no c c a s i o n a l l y\\nt a s k e d\\nw i t h\\nt e a c h i n g\\nl e c t u r e\\nw i t h\\n1\\no t h e r\\nT A\\nH u n g e r P a s s\\n( i P h o n e\\na n d\\nA n d r o i d\\nA p p l i c a t i o n )\\nM a n h a t t a n ,', mimetype='text/plain', start_char_idx=2938, end_char_idx=4001, text_template='{metadata_str}\\n\\n{content}', metadata_template='{key}: {value}', metadata_seperator='\\n'), score=0.7351553497532566), NodeWithScore(node=TextNode(id_='e7f0bfce-d25b-4900-b897-6aeeee19de7a', embedding=None, metadata={'page_label': '1', 'file_name': 'Saif_Ryan_Gangaram_Resume.pdf', 'file_path': '/Users/hayat/Documents/Projects/RAG_project/data/Saif_Ryan_Gangaram_Resume.pdf', 'file_type': 'application/pdf', 'file_size': 119859, 'creation_date': '2024-09-01', 'last_modified_date': '2023-05-22'}, excluded_embed_metadata_keys=['file_name', 'file_type', 'file_size', 'creation_date', 'last_modified_date', 'last_accessed_date'], excluded_llm_metadata_keys=['file_name', 'file_type', 'file_size', 'creation_date', 'last_modified_date', 'last_accessed_date'], relationships={<NodeRelationship.SOURCE: '1'>: RelatedNodeInfo(node_id='d9eda09e-3976-43bb-8e2f-952b68233931', node_type=<ObjectType.DOCUMENT: '4'>, metadata={'page_label': '1', 'file_name': 'Saif_Ryan_Gangaram_Resume.pdf', 'file_path': '/Users/hayat/Documents/Projects/RAG_project/data/Saif_Ryan_Gangaram_Resume.pdf', 'file_type': 'application/pdf', 'file_size': 119859, 'creation_date': '2024-09-01', 'last_modified_date': '2023-05-22'}, hash='e38cf95a31ae792db428fd88f5fddf639c1b9ff98d3786a49c60653df48230ee'), <NodeRelationship.PREVIOUS: '2'>: RelatedNodeInfo(node_id='ccf840fa-9c25-4a28-ac1a-e93f0e5758cc', node_type=<ObjectType.TEXT: '1'>, metadata={'page_label': '1', 'file_name': 'Saif_Ryan_Gangaram_Resume.pdf', 'file_path': '/Users/hayat/Documents/Projects/RAG_project/data/Saif_Ryan_Gangaram_Resume.pdf', 'file_type': 'application/pdf', 'file_size': 119859, 'creation_date': '2024-09-01', 'last_modified_date': '2023-05-22'}, hash='b9150bddc9f13235f52f715c4ef1baca2084b77cddcbc67f0a35e4cb2a3e0d45'), <NodeRelationship.NEXT: '3'>: RelatedNodeInfo(node_id='4bfd43ed-efa6-4742-a402-575f3c9499ea', node_type=<ObjectType.TEXT: '1'>, metadata={}, hash='28f53c895e6f72d366c685497188b00cbf9fafcfc9c58f5dbc5ba7dd81c8c12c')}, text='0 0 0\\ni m a g e s ,\\np r o c u r e d\\nm o d e l\\nr o b u s t n e s s\\ni n\\nv a r i o u s\\nl i g h t i n g\\nc o n d i t i o n s\\n●\\nF i n e - t u n e d\\nc o n v o l u t i o n a l\\nn e u r a l\\nn e t w o r k\\n( C N N )\\na r c h i t e c t u r e ,\\no p t i m i z i n g\\nh y p e r p a r a m e t e r s\\n( l e a r n i n g\\nr a t e ,\\nb a t c h\\ns i z e ,\\ne p o c h s )\\na n d\\ne x p e r i m e n t i n g\\nw i t h\\na d v a n c e d\\nf e a t u r e\\ne x t r a c t i o n\\nm e t h o d s\\n( L B P ,\\nH O G )\\n●\\nI n c o r p o r a t e d\\ne a r l y\\ns t o p p i n g ,\\nd r o p o u t\\n( u p\\nt o\\n5 0 %\\nr a t e ) ,\\na n d\\ng r a d i e n t\\nc l i p p i n g\\nt e c h n i q u e s\\nt o\\np r e v e n t\\no v e r f i t t i n g\\na n d\\ns t a b i l i z e\\nm o d e l\\nt r a i n i n g\\nS T A T I S T I C A L\\nD A T A\\nM I N I N G\\nP R O J E C T\\nB u f f a l o ,\\nN e w\\nY o r k\\nB r e a s t\\nC a n c e r\\nP r o j e c t\\n( L i n e a r\\nR e g r e s s i o n / C l a s s i f i c a t i o n / P C A / P C R / L A R\\n&\\nC l u s t e r i n g\\nw /\\nE r r o r\\nA n a l y s i s )\\nO c t o b e r\\n2 0 2 2\\n–\\nD e c e m b e r\\n2 0 2 2\\n●\\nC o e r c e d\\nB r e a s t\\nC a n c e r\\nD a t a\\nt o\\np r e d i c t\\nr a d i u s _ w o r s t\\nu s i n g\\nm a c h i n e\\nl e a r n i n g\\nm o d e l s ,\\nc l a s s i f i e d\\nM a l i g n a n t\\na n d\\nB e n i g n\\nt u m o r s\\n●\\nU t i l i z e d\\nS Q L ,\\nR\\na n d\\nP y t h o n ’ s\\nn u m p y\\na n d\\np a n d a s\\nt o\\nd e s i g n\\nm u l t i p l e\\nr e g r e s s i o n / c l a s s i f i c a t i o n / p .\\nc o m p o n e n t s\\nm o d e l s\\nt o\\np r e d i c t\\nr a d i u s\\ne t c .\\n●\\nS c a l e d\\na n d\\nm a n i p u l a t e d\\n1 0 +\\nl a r g e\\nd a t a\\nf r a m e s\\no f\\nt i m e - s e r i e s\\nd a t a ,', mimetype='text/plain', start_char_idx=5324, end_char_idx=6907, text_template='{metadata_str}\\n\\n{content}', metadata_template='{key}: {value}', metadata_seperator='\\n'), score=0.7277994762028461)], metadata={'c9cfc323-0cde-42b5-9321-a95ddb30abc2': {'page_label': '1', 'file_name': 'Saif_Ryan_Gangaram_Resume.pdf', 'file_path': '/Users/hayat/Documents/Projects/RAG_project/data/Saif_Ryan_Gangaram_Resume.pdf', 'file_type': 'application/pdf', 'file_size': 119859, 'creation_date': '2024-09-01', 'last_modified_date': '2023-05-22'}, 'e7f0bfce-d25b-4900-b897-6aeeee19de7a': {'page_label': '1', 'file_name': 'Saif_Ryan_Gangaram_Resume.pdf', 'file_path': '/Users/hayat/Documents/Projects/RAG_project/data/Saif_Ryan_Gangaram_Resume.pdf', 'file_type': 'application/pdf', 'file_size': 119859, 'creation_date': '2024-09-01', 'last_modified_date': '2023-05-22'}})"
      ]
     },
     "execution_count": 31,
     "metadata": {},
     "output_type": "execute_result"
    }
   ],
   "source": [
    "response = query_engine.query('Schneider?')\n",
    "response"
   ]
  },
  {
   "cell_type": "code",
   "execution_count": 33,
   "metadata": {},
   "outputs": [
    {
     "data": {
      "text/plain": [
       "Response(response='Data Science involves utilizing various techniques and tools to extract insights and knowledge from data. It encompasses areas such as data mining, machine learning, statistical analysis, and data visualization to uncover patterns, make predictions, and drive decision-making processes.', source_nodes=[NodeWithScore(node=TextNode(id_='71031203-b407-401f-8921-35f0a024e0fe', embedding=None, metadata={'page_label': '1', 'file_name': 'Tabinda_Hayat_Resume.pdf', 'file_path': '/Users/hayat/Documents/Projects/RAG_project/data/Tabinda_Hayat_Resume.pdf', 'file_type': 'application/pdf', 'file_size': 180868, 'creation_date': '2024-09-01', 'last_modified_date': '2024-08-29'}, excluded_embed_metadata_keys=['file_name', 'file_type', 'file_size', 'creation_date', 'last_modified_date', 'last_accessed_date'], excluded_llm_metadata_keys=['file_name', 'file_type', 'file_size', 'creation_date', 'last_modified_date', 'last_accessed_date'], relationships={<NodeRelationship.SOURCE: '1'>: RelatedNodeInfo(node_id='83b86b7e-e3b3-40b3-9b80-694ca2223a0f', node_type=<ObjectType.DOCUMENT: '4'>, metadata={'page_label': '1', 'file_name': 'Tabinda_Hayat_Resume.pdf', 'file_path': '/Users/hayat/Documents/Projects/RAG_project/data/Tabinda_Hayat_Resume.pdf', 'file_type': 'application/pdf', 'file_size': 180868, 'creation_date': '2024-09-01', 'last_modified_date': '2024-08-29'}, hash='e4a951c0d167b39a0e199cae4edc9b3d3ad77e4b95d1a14b733776f1a9505580'), <NodeRelationship.NEXT: '3'>: RelatedNodeInfo(node_id='c050c306-e825-4336-ba68-edefe19a0d48', node_type=<ObjectType.TEXT: '1'>, metadata={}, hash='be2df4e171dcd54ea63a648f32a5ad99ea51ecdfedbcdd21f2e8ac1aff22e3ab')}, text=\"TABINDA HAYAT716-776-9005 | tabindah@buffalo.edu | linkedin.com/in/tabindahayat | https://github.com/coder-brunetteEDUCATIONUniversity at Buffalo, The State University of New York| Institute for AI & Data Science\\u2029Master of Professional Studies in Data Sciences & Applications     Conferred:January 2024Chhattisgarh Swami Vivekanand Technical University| Computer Science & Engineering     Chhattisgarh, IndiaBachelor of Engineering in Computer Science & Engineering     Conferred: August 2018SKILLS & TOOLSMachine Learning · Data Mining · Data Analysis · Predictive Modeling · Deep Learning · Python · R · SQL · Spark · Kafka · Computer Vision · NLP · Statistical Analysis · Data Analytics · Tableau · PyTorch · TensorFlow · Data Modeling · Statistical Modeling Tools · Big Data · Time Series Analysis · Feature Engineering  · Neural Network Model · Decision Trees · Scikit-learn · MLOps · Analytical Tools · Data structures and algorithms · Docker · BERT ·Transformer Model (LLM) · Generative AI · Sentiment Analysis · GCP · ETL · Data Integration · RestAPI · LangChain · Azure Databricks · Azure ML Studio · Azure Kubernetes Services · Azure DevOps · RAG PROFESSIONAL EXPERIENCE Tata Consultancy Services   Bengaluru, IndiaMachine Learning Engineer (Data Analytics)     March 2019 –July 2022Honored with “On the spot (Team)” award for surpassing the assigned targets by 40%.· Used AnyLogic and Microsoft Project Bonsai to train a reinforcement learning model, cutting average product costs by 46%.· Streamed 80,000 tags/hour from Edge devices to Azure IoT Hub and deployed ML models using Azure DevOps CI/CD pipelines on Azure Kubernetes.· Programmed OpenCV and CNNs for surface crack detection, achieving 92% accuracy with FRCNN compared to VGG-16, ResNet50, and YOLOv3. · Developed CNN models trained on CIFAR-10 for people counting and face detection, achieving 85% accuracy. · Transitioned model reports from Oracle to Azure Databricks with PySpark and created advanced reports for improved performance and analytics.  · Used Transformers and BERT for tokenization and GPT-4 for training to create a bot that accurately extracts and parses receipt information, enhancing data processing efficiency. Google Developer Student Club     Buffalo, New YorkTechnology Lead    January 2023 – July 202· Led technical sessions on GCP for 85+ attendees.  · Managed the club’s social media on LinkedIn, Instagram, FB, Slack, and Discord, increasing followers by 60%.· Promoted the club at university events, successfully onboarding 200+ new students.INTERNSHIPSummer Associate, NASA L'SPACE - Proposal Writing & Evaluation, Buffalo, New York May 2023 - August 2023· Drafted and reviewed innovative proposals for new technologies and concepts to enable agency objectives and enhance mission capabilities at NASA as a goal to win the award of $10000 in funding.KEY PROJECTS  Diabetes Prediction Model: ML, Python and  REST API· Developed a machine learning model for diabetes prediction using health metrics data. Implemented data preprocessing, feature scaling, and model training with Random Forest and Logistic Regression. Deployed a Flask-based REST API to provide real-time predictions and probabilities. Disaster Tweet Classifier: Python and NLP· Developed and implemented a tweet classification model for disaster detection using TF-IDF vectorization and logistic regression, achieving a validation accuracy of 79%. Preprocessed text data, trained the model, and evaluated its performance, demonstrating strong skills in machine learning and natural language processing. Customer Churn Prediction with Deep Learning using Keras: RDeveloped a deep learning model using Keras to predict customer churn based on historical data. Utilized R programming language to preprocess data, train the model, and evaluate its performance. Employed techniques such as data preprocessing, model training, and evaluation to achieve a model accuracy of 81.8%. Successfully implemented the project, demonstrating proficiency in deep learning, R programming, and predictive analytics. Realtime fruit detection using YOLOv4: Python and Computer Vision· Developed a real-time fruit detection system using YOLOv4. Implemented image processing techniques and deep learning algorithms to detect various fruits in live video streams. Utilized OpenCV and TensorFlow frameworks to preprocess images, run inference, and draw bounding boxes around detected fruits.        Weather Data Analysis: ETL and ML        · Developed an end-to-end solution for weather data analysis using an ETL pipeline, machine learning, and REST API integration.\", mimetype='text/plain', start_char_idx=0, end_char_idx=4609, text_template='{metadata_str}\\n\\n{content}', metadata_template='{key}: {value}', metadata_seperator='\\n'), score=0.8025235462938011), NodeWithScore(node=TextNode(id_='c050c306-e825-4336-ba68-edefe19a0d48', embedding=None, metadata={'page_label': '1', 'file_name': 'Tabinda_Hayat_Resume.pdf', 'file_path': '/Users/hayat/Documents/Projects/RAG_project/data/Tabinda_Hayat_Resume.pdf', 'file_type': 'application/pdf', 'file_size': 180868, 'creation_date': '2024-09-01', 'last_modified_date': '2024-08-29'}, excluded_embed_metadata_keys=['file_name', 'file_type', 'file_size', 'creation_date', 'last_modified_date', 'last_accessed_date'], excluded_llm_metadata_keys=['file_name', 'file_type', 'file_size', 'creation_date', 'last_modified_date', 'last_accessed_date'], relationships={<NodeRelationship.SOURCE: '1'>: RelatedNodeInfo(node_id='83b86b7e-e3b3-40b3-9b80-694ca2223a0f', node_type=<ObjectType.DOCUMENT: '4'>, metadata={'page_label': '1', 'file_name': 'Tabinda_Hayat_Resume.pdf', 'file_path': '/Users/hayat/Documents/Projects/RAG_project/data/Tabinda_Hayat_Resume.pdf', 'file_type': 'application/pdf', 'file_size': 180868, 'creation_date': '2024-09-01', 'last_modified_date': '2024-08-29'}, hash='e4a951c0d167b39a0e199cae4edc9b3d3ad77e4b95d1a14b733776f1a9505580'), <NodeRelationship.PREVIOUS: '2'>: RelatedNodeInfo(node_id='71031203-b407-401f-8921-35f0a024e0fe', node_type=<ObjectType.TEXT: '1'>, metadata={'page_label': '1', 'file_name': 'Tabinda_Hayat_Resume.pdf', 'file_path': '/Users/hayat/Documents/Projects/RAG_project/data/Tabinda_Hayat_Resume.pdf', 'file_type': 'application/pdf', 'file_size': 180868, 'creation_date': '2024-09-01', 'last_modified_date': '2024-08-29'}, hash='9ca18b993c8232fc9d433858c96dae88ce0c448adcbea8e68533ffa807984b95')}, text='Utilized R programming language to preprocess data, train the model, and evaluate its performance. Employed techniques such as data preprocessing, model training, and evaluation to achieve a model accuracy of 81.8%. Successfully implemented the project, demonstrating proficiency in deep learning, R programming, and predictive analytics. Realtime fruit detection using YOLOv4: Python and Computer Vision· Developed a real-time fruit detection system using YOLOv4. Implemented image processing techniques and deep learning algorithms to detect various fruits in live video streams. Utilized OpenCV and TensorFlow frameworks to preprocess images, run inference, and draw bounding boxes around detected fruits.        Weather Data Analysis: ETL and ML        · Developed an end-to-end solution for weather data analysis using an ETL pipeline, machine learning, and REST API integration. Extracted weather data from an external API,           transformed and loaded it into a SQLite database. Trained a Random Forest Regressor to predict temperature, fine-tuned the model, and deployed it via a Flask-based         REST API for real-time predictions. RESEARCHDeveloping humanoid as an information kiosk: Human-Robot Interaction Lab, UB     February 2023 - May 2023· Researched and implemented NLP and SLAM-based applications on the humanoid robot \"Pepper\" using Python for conversational abilities, impression generation, and emotion detection. CERTIFICATIONS  RAG and Fine - tuning: LLM ·Generative AI: Working with Large Language · LeetCode Badge for Pandas · AZ - 900 (Azure AI Fundamentals) · AZ - 100 (Azure Fundamentals) · Data Visualization in Tableau · Prompt Engineering with LinkedIn · Applied Data Science Module Certificate of Completion | WorldQuant University · Fundamentals of SQL on Databricks | Databricks Academy · ETL : Data Extraction | Databricks Academy · What is Data Science? IBM - Coursera · Programming for Everybody (Getting Started with Python) | University of Michigan - Coursera · Introduction to Python Course | Data Camp · Author | Thrive Global, a venture by Ariana Huffington · V olunteering towards ensuring child rights | CRY', mimetype='text/plain', start_char_idx=3725, end_char_idx=5883, text_template='{metadata_str}\\n\\n{content}', metadata_template='{key}: {value}', metadata_seperator='\\n'), score=0.7902372108794306)], metadata={'71031203-b407-401f-8921-35f0a024e0fe': {'page_label': '1', 'file_name': 'Tabinda_Hayat_Resume.pdf', 'file_path': '/Users/hayat/Documents/Projects/RAG_project/data/Tabinda_Hayat_Resume.pdf', 'file_type': 'application/pdf', 'file_size': 180868, 'creation_date': '2024-09-01', 'last_modified_date': '2024-08-29'}, 'c050c306-e825-4336-ba68-edefe19a0d48': {'page_label': '1', 'file_name': 'Tabinda_Hayat_Resume.pdf', 'file_path': '/Users/hayat/Documents/Projects/RAG_project/data/Tabinda_Hayat_Resume.pdf', 'file_type': 'application/pdf', 'file_size': 180868, 'creation_date': '2024-09-01', 'last_modified_date': '2024-08-29'}})"
      ]
     },
     "execution_count": 33,
     "metadata": {},
     "output_type": "execute_result"
    }
   ],
   "source": [
    "response = query_engine.query('Data Science?')\n",
    "response"
   ]
  },
  {
   "cell_type": "code",
   "execution_count": 34,
   "metadata": {},
   "outputs": [
    {
     "name": "stdout",
     "output_type": "stream",
     "text": [
      "Final Response: Data Science involves utilizing various techniques and\n",
      "tools to extract insights and knowledge from data. It encompasses\n",
      "areas such as data mining, machine learning, statistical analysis, and\n",
      "data visualization to uncover patterns, make predictions, and drive\n",
      "decision-making processes.\n",
      "______________________________________________________________________\n",
      "Source Node 1/2\n",
      "Node ID: 71031203-b407-401f-8921-35f0a024e0fe\n",
      "Similarity: 0.8025235462938011\n",
      "Text: TABINDA HAYAT716-776-9005 | tabindah@buffalo.edu |\n",
      "linkedin.com/in/tabindahayat | https://github.com/coder-\n",
      "brunetteEDUCATIONUniversity at Buffalo, The State University of New\n",
      "York| Institute for AI & Data Science Master of Professional Studies\n",
      "in Data Sciences & Applications     Conferred:January 2024Chhattisgarh\n",
      "Swami Vivekanand Technical Unive...\n",
      "______________________________________________________________________\n",
      "Source Node 2/2\n",
      "Node ID: c050c306-e825-4336-ba68-edefe19a0d48\n",
      "Similarity: 0.7902372108794306\n",
      "Text: Utilized R programming language to preprocess data, train the\n",
      "model, and evaluate its performance. Employed techniques such as data\n",
      "preprocessing, model training, and evaluation to achieve a model\n",
      "accuracy of 81.8%. Successfully implemented the project, demonstrating\n",
      "proficiency in deep learning, R programming, and predictive analytics.\n",
      "Realtime...\n",
      "Data Science involves utilizing various techniques and tools to extract insights and knowledge from data. It encompasses areas such as data mining, machine learning, statistical analysis, and data visualization to uncover patterns, make predictions, and drive decision-making processes.\n"
     ]
    }
   ],
   "source": [
    "from llama_index.core.response.pprint_utils import pprint_response\n",
    "pprint_response(response, show_source=True)\n",
    "print(response)"
   ]
  },
  {
   "cell_type": "code",
   "execution_count": null,
   "metadata": {},
   "outputs": [],
   "source": []
  }
 ],
 "metadata": {
  "kernelspec": {
   "display_name": "ragverse",
   "language": "python",
   "name": "python3"
  },
  "language_info": {
   "codemirror_mode": {
    "name": "ipython",
    "version": 3
   },
   "file_extension": ".py",
   "mimetype": "text/x-python",
   "name": "python",
   "nbconvert_exporter": "python",
   "pygments_lexer": "ipython3",
   "version": "3.10.8"
  }
 },
 "nbformat": 4,
 "nbformat_minor": 2
}
